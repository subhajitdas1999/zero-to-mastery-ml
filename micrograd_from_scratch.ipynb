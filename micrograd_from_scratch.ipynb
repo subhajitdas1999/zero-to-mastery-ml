{
 "cells": [
  {
   "cell_type": "code",
   "execution_count": 1,
   "id": "f5faf0ac-1cb3-4ee3-b52c-83118752969e",
   "metadata": {},
   "outputs": [],
   "source": [
    "import math\n",
    "import random\n",
    "import numpy as np\n",
    "import matplotlib.pyplot as plt\n",
    "%matplotlib inline"
   ]
  },
  {
   "cell_type": "code",
   "execution_count": 2,
   "id": "86577e5b-1e24-4fc3-94d3-ea2aba73b6f6",
   "metadata": {},
   "outputs": [],
   "source": [
    "def f(x):\n",
    "    return 3*x**2 - 4*x + 5"
   ]
  },
  {
   "cell_type": "code",
   "execution_count": 3,
   "id": "749112e3-8033-410f-80aa-71497be10388",
   "metadata": {},
   "outputs": [
    {
     "data": {
      "text/plain": [
       "20.0"
      ]
     },
     "execution_count": 3,
     "metadata": {},
     "output_type": "execute_result"
    }
   ],
   "source": [
    "f(3.0)"
   ]
  },
  {
   "cell_type": "code",
   "execution_count": 4,
   "id": "e3878580-2b9a-45ea-91ad-8994ad9d23eb",
   "metadata": {},
   "outputs": [],
   "source": [
    "xs = np.arange(-5,5,0.25)"
   ]
  },
  {
   "cell_type": "code",
   "execution_count": 5,
   "id": "d83cfb79-f07f-4fb5-842d-dd84d1a1918f",
   "metadata": {},
   "outputs": [
    {
     "name": "stdout",
     "output_type": "stream",
     "text": [
      "[-5.   -4.75 -4.5  -4.25 -4.   -3.75 -3.5  -3.25 -3.   -2.75 -2.5  -2.25\n",
      " -2.   -1.75 -1.5  -1.25 -1.   -0.75 -0.5  -0.25  0.    0.25  0.5   0.75\n",
      "  1.    1.25  1.5   1.75  2.    2.25  2.5   2.75  3.    3.25  3.5   3.75\n",
      "  4.    4.25  4.5   4.75]\n"
     ]
    }
   ],
   "source": [
    "print(xs)"
   ]
  },
  {
   "cell_type": "code",
   "execution_count": 6,
   "id": "04077f99-2c4c-4449-89d1-f747073379b4",
   "metadata": {},
   "outputs": [
    {
     "name": "stdout",
     "output_type": "stream",
     "text": [
      "[100.      91.6875  83.75    76.1875  69.      62.1875  55.75    49.6875\n",
      "  44.      38.6875  33.75    29.1875  25.      21.1875  17.75    14.6875\n",
      "  12.       9.6875   7.75     6.1875   5.       4.1875   3.75     3.6875\n",
      "   4.       4.6875   5.75     7.1875   9.      11.1875  13.75    16.6875\n",
      "  20.      23.6875  27.75    32.1875  37.      42.1875  47.75    53.6875]\n"
     ]
    }
   ],
   "source": [
    " ys = f(xs)\n",
    "print(ys)"
   ]
  },
  {
   "cell_type": "code",
   "execution_count": 7,
   "id": "1ee68adf-c514-4c7a-b513-88b8f41e03f4",
   "metadata": {},
   "outputs": [
    {
     "data": {
      "text/plain": [
       "[<matplotlib.lines.Line2D at 0x7a9443e2e020>]"
      ]
     },
     "execution_count": 7,
     "metadata": {},
     "output_type": "execute_result"
    },
    {
     "data": {
      "image/png": "[encoded data removed]",
      "text/plain": [
       "<Figure size 640x480 with 1 Axes>"
      ]
     },
     "metadata": {},
     "output_type": "display_data"
    }
   ],
   "source": [
    "plt.plot(xs,ys)"
   ]
  },
  {
   "cell_type": "code",
   "execution_count": 8,
   "id": "5429469c-bc0c-413b-a818-8a4356000b24",
   "metadata": {},
   "outputs": [
    {
     "data": {
      "text/plain": [
       "14.000270000025239"
      ]
     },
     "execution_count": 8,
     "metadata": {},
     "output_type": "execute_result"
    }
   ],
   "source": [
    "h=0.00009\n",
    "a = 3\n",
    "(f(a+h)-f(a))/h"
   ]
  },
  {
   "cell_type": "code",
   "execution_count": 9,
   "id": "7d9acfe8-75ca-4b0c-85c4-3876384c1cda",
   "metadata": {},
   "outputs": [],
   "source": [
    "class Value:\n",
    "    def __init__(self,data, _children=(),_op=\"\",label=\"\"):\n",
    "        self.data = data\n",
    "        self.grad = 0.0\n",
    "        self._backward = lambda : None\n",
    "        self._prev = set(_children)\n",
    "        self._op = _op\n",
    "        self.label = label\n",
    "\n",
    "    def __repr__(self):\n",
    "        return f\"Value(data={self.data} label={self.label})\"\n",
    "\n",
    "    def __add__(self,other):\n",
    "        other = other if isinstance(other, Value) else Value(other) # so that i can add a numerical also\n",
    "        out = Value(self.data + other.data,(self,other),\"+\")\n",
    "\n",
    "        def _backward():\n",
    "            self.grad += 1.0 * out.grad # for multiple edges (same Value contributing multiple places) the grad should get accumulate\n",
    "            other.grad += 1.0 * out.grad\n",
    "        out._backward = _backward\n",
    "        return out\n",
    "\n",
    "    def __neg__(self):\n",
    "        return self * -1\n",
    "        \n",
    "    def __sub__(self,other):\n",
    "        return self + (-other)\n",
    "\n",
    "    def __rsub__(self,other):\n",
    "        return other + (-self)\n",
    "        \n",
    "    def __radd__(self,other): #so that we can call 1 + a(value object) it's a fallback\n",
    "        return self + other\n",
    "        \n",
    "    def __mul__(self,other):\n",
    "        other = other if isinstance(other, Value) else Value(other)\n",
    "        out = Value(self.data * other.data,(self,other),\"*\")\n",
    "        def _backward():\n",
    "            self.grad += other.data * out.grad\n",
    "            other.grad += self.data * out.grad\n",
    "        out._backward = _backward\n",
    "        return out\n",
    "\n",
    "    def __pow__(self,other):\n",
    "        assert isinstance(other,(int,float)),\"only supporting int/float powers for now\"\n",
    "        out = Value(self.data**other,(self,), f'**{other}')\n",
    "\n",
    "        def _backward():\n",
    "            self.grad += ((other * (self.data)**(other-1))) * (out.grad)\n",
    "            \n",
    "        out._backward = _backward\n",
    "        return out\n",
    "        \n",
    "    def __rmul__(self,other): #so that we can call 1 * a(value object)\n",
    "        return self*other\n",
    "        \n",
    "    def __truediv__(self,other): # self / other\n",
    "        return self * other**-1\n",
    "\n",
    "        \n",
    "    def tanh(self):\n",
    "        n = self.data\n",
    "        x = (math.exp(2*n) - 1) / (math.exp(2*n) + 1)\n",
    "        out = Value(x,(self,),\"tanh\")\n",
    "        def _backward():\n",
    "            self.grad += ((1 - x**2) * (out.grad))\n",
    "            \n",
    "        out._backward = _backward\n",
    "        return out\n",
    "\n",
    "    def backward(self):\n",
    "        topo=[]\n",
    "        visited=set()\n",
    "        def build_topo(node):\n",
    "            if node not in visited:\n",
    "                visited.add(node)\n",
    "                for child in node._prev:\n",
    "                    build_topo(child)\n",
    "                topo.append(node)\n",
    "        \n",
    "        \n",
    "        build_topo(self)\n",
    "        self.grad=1.0\n",
    "        for node in reversed(topo):\n",
    "            node._backward()\n",
    "\n",
    "    def exp(self):\n",
    "        x = self.data\n",
    "        out = Value(math.exp(x),(self,),\"exp\")\n",
    "        def _backward():\n",
    "            self.grad += ((math.exp(x)) * (out.grad))\n",
    "            \n",
    "        out._backward = _backward\n",
    "        return out\n",
    "\n",
    "# a = Value(2.0,label=\"a\")\n",
    "# b = Value(-3.0, label=\"b\")\n",
    "# c = Value(10.0, label=\"c\")\n",
    "# e = a * b ; e.label=\"e\"\n",
    "# d= e + c; d.label=\"d\"\n",
    "# f = Value(-2.0,label=\"f\")\n",
    "# L = d * f; L.label=\"L\""
   ]
  },
  {
   "cell_type": "code",
   "execution_count": 10,
   "id": "c66ac827-b32e-411f-b32f-cf9317e3d925",
   "metadata": {},
   "outputs": [
    {
     "data": {
      "text/plain": [
       "Value(data=2.0 label=)"
      ]
     },
     "execution_count": 10,
     "metadata": {},
     "output_type": "execute_result"
    }
   ],
   "source": [
    "a = Value(4.0,label=\"a\")\n",
    "b = Value(2.0,label=\"b\")\n",
    "\n",
    "a / b"
   ]
  },
  {
   "cell_type": "code",
   "execution_count": 11,
   "id": "e4ec5f8e-2036-45d6-bee7-9852d7c259b7",
   "metadata": {},
   "outputs": [],
   "source": [
    "# !pip install graphviz"
   ]
  },
  {
   "cell_type": "code",
   "execution_count": 12,
   "id": "acdb0706-f830-46c1-9b88-1bd0d4dedaf7",
   "metadata": {},
   "outputs": [],
   "source": [
    "from graphviz import Digraph\n",
    "\n",
    "def trace(root):\n",
    "    nodes, edges = set(), set()\n",
    "    def build(v):\n",
    "        if v not in nodes:\n",
    "            nodes.add(v)\n",
    "            for child in v._prev:\n",
    "                edges.add((child, v))\n",
    "                build(child)\n",
    "    build(root)\n",
    "    return nodes, edges\n",
    "\n",
    "def draw_dot(root):\n",
    " \n",
    "    dot = Digraph(format=\"svg\", graph_attr={'rankdir': 'LR'}) # LR = Left to Right\n",
    "    nodes, edges = trace(root)\n",
    "    \n",
    "    for n in nodes:\n",
    "        uid = str(id(n))\n",
    "        dot.node(name=uid, label = \"{ %s | data %.4f | grad %.4f}\" % (n.label, n.data, n.grad), shape='record')\n",
    "\n",
    "        if n._op:\n",
    "            dot.node(name=uid + n._op, label=n._op)\n",
    "            dot.edge(uid + n._op, str(id(n)))\n",
    "    \n",
    "    for n1, n2 in edges:\n",
    "        dot.edge(str(id(n1)), str(id(n2)) + n2._op)\n",
    "    \n",
    "    return dot"
   ]
  },
  {
   "cell_type": "code",
   "execution_count": 13,
   "id": "0207be2f-0bff-4d86-a920-79fe57584af3",
   "metadata": {
    "scrolled": true
   },
   "outputs": [],
   "source": [
    "# draw_dot(o)"
   ]
  },
  {
   "cell_type": "markdown",
   "id": "c972a72e-caf1-496b-9eec-5ca1099a10b9",
   "metadata": {},
   "source": [
    "### time to fill up the grad and do back propagation manualy"
   ]
  },
  {
   "cell_type": "code",
   "execution_count": 14,
   "id": "6e655bca-a896-41ee-9dc6-ee063fdec2fa",
   "metadata": {},
   "outputs": [],
   "source": [
    "# for L node\n",
    "# derivative of L w.r.t L (if I change L by a tiny amount of h how much does L change)\n",
    "# dL/ dL = 1 "
   ]
  },
  {
   "cell_type": "code",
   "execution_count": 77,
   "id": "e7b3cc97-654c-4711-995d-34ac8e9a1e26",
   "metadata": {},
   "outputs": [],
   "source": [
    "# L.grad = 1.0"
   ]
  },
  {
   "cell_type": "code",
   "execution_count": null,
   "id": "fbead629-75f9-4f00-a53e-5ad2844659ba",
   "metadata": {},
   "outputs": [],
   "source": [
    "# now for the node d and f\n",
    "# dL/dd = ? and dL/df ?\n",
    "# L = d*f =\n",
    "#  dL/ dd = f = -2.0 and dL/df = d = 4.0\n",
    "d.grad = -2.0\n",
    "f.grad = 4.0"
   ]
  },
  {
   "cell_type": "code",
   "execution_count": null,
   "id": "914b8183-9844-4960-8852-9d2954dcd852",
   "metadata": {},
   "outputs": [],
   "source": [
    "# Now for the node c and e\n",
    "# d = c + e\n",
    "# dL/dc and dL/de\n",
    "# using chain rule by looking at the equation \n",
    "# dL/dc = dL/dd x dd/dc (dL/dd = -2.0 from previous step)\n",
    "#       = -2.0 x d/dc (c + e) = -2.0 x 1 = -2.0\n",
    "# dL/dc = 12.0\n",
    "# dL/de = dL/dd x dd/de = -2.0 x 1 = -2.0 \n",
    "c.grad = -2.0\n",
    "e.grad = -2.0"
   ]
  },
  {
   "cell_type": "code",
   "execution_count": null,
   "id": "247496e3-b204-455c-b884-b494518d7897",
   "metadata": {},
   "outputs": [],
   "source": [
    "# Now calculating for a , b\n",
    "# a * b = e\n",
    "# dL/da = ? and dL/db = ?\n",
    "# again using a chain rule now\n",
    "# by looking at the equvalent equation\n",
    "# dL/da = dL/de * de/da = -2.0 * d/da (ab) = -2.0 * b = -2.0 * -3.0 = 6\n",
    "# dL/db = dL/de * de/db = -2.0 * d/db (ab) = -2.0 * a = -2.0 * 2.0 = -4.0\n",
    "a.grad = 6.0\n",
    "b.grad = -4.0"
   ]
  },
  {
   "cell_type": "code",
   "execution_count": null,
   "id": "78d7fce6-c31c-4849-8364-b6274896f7dc",
   "metadata": {},
   "outputs": [],
   "source": [
    "# Test the derivative numericals manually\n",
    "\n",
    "def lol():\n",
    "\n",
    "    h= 0.001\n",
    "    \n",
    "    a = Value(2.0,label=\"a\")\n",
    "    b = Value(-3.0, label=\"b\")\n",
    "    c = Value(10.0, label=\"c\")\n",
    "    e = a * b ; e.label=\"e\"\n",
    "    d= e + c; d.label=\"d\"\n",
    "    f = Value(-2.0,label=\"f\")\n",
    "    L = d * f; L.label=\"L\"\n",
    "    L1 = L.data\n",
    "\n",
    "    a = Value(2.0,label=\"a\")\n",
    "    b = Value(-3.0 + h, label=\"b\")\n",
    "    c = Value(10.0, label=\"c\")\n",
    "    e = a * b ; e.label=\"e\"\n",
    "    d= e + c; d.label=\"d\"\n",
    "    f = Value(-2.0,label=\"f\")\n",
    "    L = d * f; L.label=\"L\"\n",
    "    L2 = L.data\n",
    "\n",
    "    print((L2 - L1) / h)\n",
    "\n",
    "lol()"
   ]
  },
  {
   "cell_type": "code",
   "execution_count": null,
   "id": "0480f0be-b27a-48d3-8635-e096371fc03f",
   "metadata": {},
   "outputs": [],
   "source": [
    "# print(np.tanh(-19))"
   ]
  },
  {
   "cell_type": "code",
   "execution_count": null,
   "id": "620acb04-6bad-4426-8d8a-580b1d4ed1fa",
   "metadata": {},
   "outputs": [],
   "source": [
    "plt.plot(np.arange(-5,5,0.2),np.tanh(np.arange(-5,5,0.2)))\n",
    "plt.grid()"
   ]
  },
  {
   "cell_type": "markdown",
   "id": "10dcc263-2976-4431-b1d3-612c7692d444",
   "metadata": {},
   "source": [
    "## Now I am gonna implement a small nueron , and use tanh as a squash func\n",
    "![nueron](https://cs231n.github.io/assets/nn1/neuron_model.jpeg)"
   ]
  },
  {
   "cell_type": "code",
   "execution_count": null,
   "id": "6496def8-a1f0-4aa0-b764-2db51db9244e",
   "metadata": {},
   "outputs": [],
   "source": [
    "draw_dot(L)"
   ]
  },
  {
   "cell_type": "code",
   "execution_count": null,
   "id": "eb96bca1-9691-434a-bad9-6c222ffa3df9",
   "metadata": {},
   "outputs": [],
   "source": [
    "# add grad now\n",
    "o.grad = 1.0 #derivative of o w.r.t o is 1\n",
    "\n",
    "# o= tanh(n) => d (tanh(x))/ dx = 1- tanh^2(x) => d (tanh(n)) / dn => 1-tanh^2(n) => 1- o^2 (as o = tanh(n))\n",
    "n.grad =  1- (o.data)**2 #0.5\n",
    "\n",
    "b.grad = 0.5 # do/db = do/dn x dn/db = 0.5 x 1\n",
    "\n",
    "x1w1x2w2.grad = 0.5\n",
    "x1w1.grad = 0.5 * 1.0\n",
    "x2w2.grad = 0.5 * 1.0\n",
    "x1.grad = 0.5 * w1.data\n",
    "w1.grad = 0.5 * x1.data\n",
    "x2.grad = 0.5 * w2.data\n",
    "w2.grad = 0.5 * x2.data"
   ]
  },
  {
   "cell_type": "markdown",
   "id": "a2b33417-57f4-40f3-9153-bdccf7081216",
   "metadata": {},
   "source": [
    "### Now try to implement this grad automatically observing the behaviour of plus and mul and tanh. \n",
    "#### in addtion it will be 1 * (forward local grad)\n",
    "### in mul it will be other.data x (forward local grad)"
   ]
  },
  {
   "cell_type": "code",
   "execution_count": null,
   "id": "0f1a5071-2bcd-49b4-8839-b60eff1bf9be",
   "metadata": {},
   "outputs": [],
   "source": [
    "# Alternative way of automatically adding grad\n",
    "o.grad = 1.0 # base condition\n",
    "o._backward()\n",
    "n._backward()\n",
    "x1w1x2w2._backward()\n",
    "x1w1._backward()\n",
    "x2w2._backward()"
   ]
  },
  {
   "cell_type": "markdown",
   "id": "8730179e-9660-4f42-ab08-4a2fd462b92b",
   "metadata": {},
   "source": [
    "### Now Try to automate this using topological sort so that we dont have to call backward function manually"
   ]
  },
  {
   "cell_type": "code",
   "execution_count": null,
   "id": "75986fa9-b755-47d6-98af-90fa78e915ce",
   "metadata": {},
   "outputs": [],
   "source": [
    "# inputs variables\n",
    "x1 = Value(2.0,label=\"x1\")\n",
    "x2 = Value(0,label=\"x2\")\n",
    "\n",
    "# weights \n",
    "w1 = Value(-3.0,label=\"w1\")\n",
    "w2 = Value(1.0,label=\"w2\")\n",
    "\n",
    "# bias\n",
    "b = Value(6.8813735870195432,label=\"b\")\n",
    "x1w1=x1 * w1; x1w1.label = \"x1w1\"\n",
    "x2w2 = x2 * w2;x2w2.label = \"x2w2\"\n",
    "x1w1x2w2 = x1w1 + x2w2 ; x1w1x2w2.label = \"x1w1 + x2w2\"\n",
    "\n",
    "n = x1w1x2w2 + b; n.label=\"n\"\n",
    "\n",
    "o = n.tanh();o.label=\"o\"\n",
    "\n",
    "# ------- Now update the o as we have multiple math opearation in value class\n",
    "# e = (2*n).exp(); e.label=\"e\"\n",
    "# o = (e+1) / (e-1)\n",
    "# o.label = \"o\"\n",
    "o.backward()"
   ]
  },
  {
   "cell_type": "code",
   "execution_count": null,
   "id": "d8e5c15b-e318-42d5-9f04-2c4784eeb69d",
   "metadata": {},
   "outputs": [],
   "source": [
    "draw_dot(o)"
   ]
  },
  {
   "cell_type": "code",
   "execution_count": null,
   "id": "0c82e1bb-76ff-44d5-9860-9432df32d172",
   "metadata": {},
   "outputs": [],
   "source": [
    "# Topological sort\n",
    "# topo=[]\n",
    "# visited=set()\n",
    "# def build_topo(node):\n",
    "#     if node not in visited:\n",
    "#         visited.add(node)\n",
    "#         for child in node._prev:\n",
    "#             build_topo(child)\n",
    "#         topo.append(node)\n",
    "\n",
    "\n",
    "# build_topo(o)\n",
    "# o.grad=1.0\n",
    "# for node in reversed(topo):\n",
    "#     node._backward()\n"
   ]
  },
  {
   "cell_type": "code",
   "execution_count": null,
   "id": "c48b3697-779d-40d7-bc9b-a87185044981",
   "metadata": {},
   "outputs": [],
   "source": [
    "o.backward()"
   ]
  },
  {
   "cell_type": "code",
   "execution_count": null,
   "id": "5b4b3ebd-933f-48af-8287-6de2ba6d4b47",
   "metadata": {},
   "outputs": [],
   "source": [
    "a = Value(3.0,label=\"a\")\n",
    "1 + a"
   ]
  },
  {
   "cell_type": "code",
   "execution_count": null,
   "id": "f02f9d2a-8edb-436d-a2c4-4d5259f25a6d",
   "metadata": {},
   "outputs": [],
   "source": [
    "a = Value(4.0,label=\"a\")\n",
    "2.6 * a"
   ]
  },
  {
   "cell_type": "code",
   "execution_count": null,
   "id": "4253f8f0-064d-456d-909d-0c08505e9e16",
   "metadata": {},
   "outputs": [],
   "source": [
    "# inputs variables\n",
    "x1 = Value(2.0,label=\"x1\")\n",
    "x2 = Value(0,label=\"x2\")\n",
    "\n",
    "# weights \n",
    "w1 = Value(-3.0,label=\"w1\")\n",
    "w2 = Value(1.0,label=\"w2\")\n",
    "\n",
    "# bias\n",
    "b = Value(6.8813735870195432,label=\"b\")\n",
    "x1w1=x1 * w1; x1w1.label = \"x1w1\"\n",
    "x2w2 = x2 * w2;x2w2.label = \"x2w2\"\n",
    "x1w1x2w2 = x1w1 + x2w2 ; x1w1x2w2.label = \"x1w1 + x2w2\"\n",
    "\n",
    "n = x1w1x2w2 + b; n.label=\"n\"\n",
    "\n",
    "o = n.tanh();o.label=\"o\"\n",
    "\n",
    "o.backward()\n",
    "draw_dot(o)"
   ]
  },
  {
   "cell_type": "code",
   "execution_count": null,
   "id": "ca95e360-6983-442d-986d-aba102bd761e",
   "metadata": {},
   "outputs": [],
   "source": [
    "# inputs variables\n",
    "x1 = Value(2.0,label=\"x1\")\n",
    "x2 = Value(0,label=\"x2\")\n",
    "\n",
    "# weights \n",
    "w1 = Value(-3.0,label=\"w1\")\n",
    "w2 = Value(1.0,label=\"w2\")\n",
    "\n",
    "# bias\n",
    "b = Value(6.8813735870195432,label=\"b\")\n",
    "x1w1=x1 * w1; x1w1.label = \"x1w1\"\n",
    "x2w2 = x2 * w2;x2w2.label = \"x2w2\"\n",
    "x1w1x2w2 = x1w1 + x2w2 ; x1w1x2w2.label = \"x1w1 + x2w2\"\n",
    "\n",
    "n = x1w1x2w2 + b; n.label=\"n\"\n",
    "\n",
    "# o = n.tanh();o.label=\"o\"\n",
    "\n",
    "# ------- Now update the o as we have multiple math opearation in value class\n",
    "e = (2*n).exp(); e.label=\"e\"\n",
    "o = (e-1) / (e+1)\n",
    "o.label = \"o\"\n",
    "o.backward()\n",
    "draw_dot(o)"
   ]
  },
  {
   "cell_type": "markdown",
   "id": "50fd1fe2-0612-4a73-ab4a-fddf2cbbc69f",
   "metadata": {},
   "source": [
    "### Defined Neuron"
   ]
  },
  {
   "cell_type": "markdown",
   "id": "9fa9fdf0-4d38-43d6-a869-6efbef9006f5",
   "metadata": {},
   "source": [
    "## Now I am gonna implement a nueron network , and use tanh as a squash func\n",
    "![nueron network](https://cs231n.github.io/assets/nn1/neural_net2.jpeg)"
   ]
  },
  {
   "cell_type": "code",
   "execution_count": 80,
   "id": "d6c9d061-5ea2-421f-8b31-4df84ceabd6c",
   "metadata": {},
   "outputs": [
    {
     "data": {
      "text/plain": [
       "Value(data=0.8927930063628413 label=)"
      ]
     },
     "execution_count": 80,
     "metadata": {},
     "output_type": "execute_result"
    }
   ],
   "source": [
    "class Neuron:\n",
    "    def __init__(self,nin): #nin = number of inputs in the nueron\n",
    "        # here assingning the weights if the inputs\n",
    "        self.w = [Value(random.uniform(-1,1)) for _ in range(nin)]\n",
    "        self.b =Value(random.uniform(-1,1))\n",
    "\n",
    "    def __call__(self,x):\n",
    "            # x*w + b\n",
    "            \n",
    "            act = sum(xi*wi for xi,wi in zip(x,self.w)) + self.b\n",
    "            out = act.tanh()\n",
    "            \n",
    "            return out\n",
    "    def parameters(self):\n",
    "        return self.w + [self.b]\n",
    "# n = Neuron(2)\n",
    "x = [2.0,3.0]\n",
    "# n(x) # This will invoke the __call__ method\n",
    "\n",
    "class Layer:\n",
    "    def __init__(self,nin,nout):\n",
    "        # print(\"Layer: initialised with \",nin,nout)\n",
    "        self.neurons =[Neuron(nin) for _ in range(nout)] #This will be like a layer for example here 3 neurons with 2 inputs and 1 output\n",
    "\n",
    "    def __call__(self,x):\n",
    "        outs = [n(x)for n in self.neurons]\n",
    "        return outs[0] if len(outs)==1 else outs\n",
    "\n",
    "    def parameters(self):\n",
    "        params = []\n",
    "        for nueron in self.neurons:\n",
    "            params.extend(nueron.parameters())\n",
    "        return params\n",
    "# n = Layer(2,3) #2,3 means we have total 3 neurons in a layer and each nueron has 2 input and 1 output\n",
    "# n(x)\n",
    "\n",
    "class MLP: #Multilayer Perceptron (MLP)\n",
    "    def __init__(self,nin,nouts):\n",
    "        sz = [nin]+nouts\n",
    "        self.layers =[Layer(sz[i],sz[i+1]) for i in range(len(nouts))]\n",
    "        \n",
    "    def __call__(self,x):\n",
    "        for layer in self.layers:\n",
    "            # print(\"MLP: Layer called with input\",x)\n",
    "            x = layer(x)\n",
    "        return x\n",
    "    def parameters(self):\n",
    "        params = []\n",
    "        for layer in self.layers:\n",
    "            for p in layer.parameters():\n",
    "                params.append(p)\n",
    "        return params\n",
    "\n",
    "x = [2.0,3.0,-1.0]\n",
    "n = MLP(3,[4,4,1]) #This is trying to simulate the above MLP in diagram considering \n",
    "# first layer having 3 (consider it as a inputs) and rest defined number of neurons needs to be present at each layer stating \n",
    "n(x)"
   ]
  },
  {
   "cell_type": "code",
   "execution_count": null,
   "id": "623b1fe6-fdab-416d-9cba-ffce3fc8ee49",
   "metadata": {},
   "outputs": [],
   "source": [
    "draw_dot(n(x))"
   ]
  },
  {
   "cell_type": "code",
   "execution_count": 19,
   "id": "15d45b36-b516-46ee-8e42-9473513f7d22",
   "metadata": {},
   "outputs": [],
   "source": [
    "# sample input\n",
    "xs = [\n",
    "    [2.0,3.0,-1.0],\n",
    "    [3.0,-1.0,0.5],\n",
    "    [0.5,1.0,1.0],\n",
    "    [1.0,1.0,-1.0]\n",
    "]\n",
    "ys = [1.0,-1.0,-1.0,1.0] #desired targets\n"
   ]
  },
  {
   "cell_type": "code",
   "execution_count": 74,
   "id": "dbdbc438-e318-4d05-957b-04f89e33fd00",
   "metadata": {},
   "outputs": [
    {
     "name": "stdout",
     "output_type": "stream",
     "text": [
      "MLP: Layer called with input [2.0, 3.0, -1.0]\n",
      "MLP: Layer called with input [Value(data=-0.9008236202884149 label=), Value(data=0.9995140087597716 label=), Value(data=-0.9950213896211352 label=), Value(data=0.9999661488438927 label=)]\n",
      "MLP: Layer called with input [Value(data=0.22416780310724227 label=), Value(data=-0.7657957584736903 label=), Value(data=-0.962774259284375 label=), Value(data=0.940706513232283 label=)]\n",
      "MLP: Layer called with input [3.0, -1.0, 0.5]\n",
      "MLP: Layer called with input [Value(data=0.9959933807500115 label=), Value(data=-0.919916064718418 label=), Value(data=-0.722287380651278 label=), Value(data=0.9970516329432914 label=)]\n",
      "MLP: Layer called with input [Value(data=0.9712362747107609 label=), Value(data=0.9654785688881515 label=), Value(data=0.8864049691678334 label=), Value(data=-0.9995572359406973 label=)]\n",
      "MLP: Layer called with input [0.5, 1.0, 1.0]\n",
      "MLP: Layer called with input [Value(data=0.9835150464702078 label=), Value(data=-0.647196804349521 label=), Value(data=-0.6211966360789213 label=), Value(data=0.9554596646165491 label=)]\n",
      "MLP: Layer called with input [Value(data=0.9715203925867595 label=), Value(data=0.9610709913019168 label=), Value(data=0.8455413240258712 label=), Value(data=-0.99876937741892 label=)]\n",
      "MLP: Layer called with input [1.0, 1.0, -1.0]\n",
      "MLP: Layer called with input [Value(data=-0.7926168607033929 label=), Value(data=0.9758700033030346 label=), Value(data=-0.9595723716158413 label=), Value(data=0.9974835530840556 label=)]\n",
      "MLP: Layer called with input [Value(data=0.34202661667640927 label=), Value(data=-0.6903425911265135 label=), Value(data=-0.9520146728737789 label=), Value(data=0.9127789336555312 label=)]\n"
     ]
    },
    {
     "data": {
      "text/plain": [
       "[Value(data=0.9916299758014671 label=),\n",
       " Value(data=-0.9994584618317435 label=),\n",
       " Value(data=-0.9994315982467912 label=),\n",
       " Value(data=0.9859949988186446 label=)]"
      ]
     },
     "execution_count": 74,
     "metadata": {},
     "output_type": "execute_result"
    }
   ],
   "source": [
    "ypred = [n(x) for x in xs] #currently the output we are getting\n",
    "ypred"
   ]
  },
  {
   "cell_type": "markdown",
   "id": "e63f3aca-1d79-40a5-bd3f-4d0432d11569",
   "metadata": {},
   "source": [
    "### Calculating the loss\n",
    "### we are going to implement mean sqare error loss"
   ]
  },
  {
   "cell_type": "code",
   "execution_count": 75,
   "id": "deb8747c-c995-40b8-9f90-e4e70c2b8155",
   "metadata": {},
   "outputs": [
    {
     "name": "stdout",
     "output_type": "stream",
     "text": [
      "[Value(data=7.005730508402705e-05 label=), Value(data=2.932635876786355e-07 label=), Value(data=3.2308055305086576e-07 label=), Value(data=0.00019614005808976594 label=)]\n",
      "Value(data=0.00026681370731452246 label=)\n"
     ]
    }
   ],
   "source": [
    "loss = [(ygt-yout)**2 for ygt,yout in zip(ys,ypred)] #This is going to calculate loss for each 4 inputs\n",
    "print(loss)\n",
    "loss = sum(loss)\n",
    "print(loss)"
   ]
  },
  {
   "cell_type": "markdown",
   "id": "d7f051ed-d54a-4274-997d-274d2748f479",
   "metadata": {},
   "source": [
    "### If we are way off the loss would be high , so we want low loss"
   ]
  },
  {
   "cell_type": "markdown",
   "id": "7fe8902a-16c1-4db2-abf3-88febdc2768e",
   "metadata": {},
   "source": [
    "### Now lets sum the loss and our only target will be to reduce the overall loss (loss minimum is 0 and greater it is our NN is worst predicting)"
   ]
  },
  {
   "cell_type": "code",
   "execution_count": 22,
   "id": "405d3ef0-37a8-4e19-b702-475b203f6463",
   "metadata": {},
   "outputs": [],
   "source": [
    "n.layers[0].neurons[0].b"
   ]
  },
  {
   "cell_type": "code",
   "execution_count": 76,
   "id": "1eb04e28-1e74-4220-a599-27e78cc19fe8",
   "metadata": {},
   "outputs": [],
   "source": [
    "# before calling the backword pass we need to reset the grad for that parameters that we going to update\n",
    "    # this is because gard is getting accumulated , so we need to flush the grad and reset it to 1 befor calculating\n",
    "    # the backword pass which is going add the update grads in the nodes\n",
    "    # other wise old grad stays and new grad is getting accumulated on top if it\n",
    "for p in n.parameters():\n",
    "    p.grad = 0.0\n",
    "loss.backward()"
   ]
  },
  {
   "cell_type": "markdown",
   "id": "0f75f3c4-28e9-4d36-8dd5-4547bba37e33",
   "metadata": {},
   "source": [
    "### If grad is +ve means if we increse the value of this node the loss will also increase"
   ]
  },
  {
   "cell_type": "code",
   "execution_count": null,
   "id": "c1a05592-7423-4877-b5a8-66e96fb57b65",
   "metadata": {},
   "outputs": [],
   "source": [
    "draw_dot(loss)"
   ]
  },
  {
   "cell_type": "markdown",
   "id": "3c122f38-8413-411c-87b2-1eaf3cef184e",
   "metadata": {},
   "source": [
    "### Added paramerts details in the NN classes . Because as we be reducing the lossing by nudjing the input . Now the X values are inputs which are fixed we can adjust the weights and bias in that case"
   ]
  },
  {
   "cell_type": "code",
   "execution_count": 47,
   "id": "e53c679e-3519-4c02-a9b6-4f4c8c05a8ac",
   "metadata": {},
   "outputs": [
    {
     "data": {
      "text/plain": [
       "[Value(data=0.23869878725569593 label=),\n",
       " Value(data=-0.5366467953674388 label=),\n",
       " Value(data=0.8602558171287449 label=),\n",
       " Value(data=0.27561452011659066 label=),\n",
       " Value(data=-0.07106458165702023 label=),\n",
       " Value(data=0.6819712644897198 label=),\n",
       " Value(data=-0.7616016463638879 label=),\n",
       " Value(data=-0.19825072110359157 label=),\n",
       " Value(data=-0.3370367676146474 label=),\n",
       " Value(data=-0.39505167858933077 label=),\n",
       " Value(data=0.5295239848955053 label=),\n",
       " Value(data=-0.7682514043919179 label=),\n",
       " Value(data=0.5619972795672841 label=),\n",
       " Value(data=0.0863271298432089 label=),\n",
       " Value(data=-0.25110579288052376 label=),\n",
       " Value(data=1.0699250464121801 label=),\n",
       " Value(data=0.9099963686947353 label=),\n",
       " Value(data=0.6988623230212508 label=),\n",
       " Value(data=0.07477985707634158 label=),\n",
       " Value(data=0.423982165253425 label=),\n",
       " Value(data=-0.6732284443254578 label=),\n",
       " Value(data=0.9190863953076774 label=),\n",
       " Value(data=0.14088649949865806 label=),\n",
       " Value(data=-0.4697918875027235 label=),\n",
       " Value(data=-0.2925813246569414 label=),\n",
       " Value(data=0.3914726354559765 label=),\n",
       " Value(data=0.3018425625832868 label=),\n",
       " Value(data=-0.714511753521276 label=),\n",
       " Value(data=0.6242451401886209 label=),\n",
       " Value(data=-0.8842144349657977 label=),\n",
       " Value(data=0.813921095712163 label=),\n",
       " Value(data=-0.6210870223765824 label=),\n",
       " Value(data=0.9236387170353104 label=),\n",
       " Value(data=-0.07519577279945258 label=),\n",
       " Value(data=-0.3957977861711876 label=),\n",
       " Value(data=0.8095834047524962 label=),\n",
       " Value(data=-0.7423518296259298 label=),\n",
       " Value(data=-0.6141660524397967 label=),\n",
       " Value(data=-0.3071079088992867 label=),\n",
       " Value(data=1.1096015913597446 label=),\n",
       " Value(data=0.44934414522444927 label=)]"
      ]
     },
     "execution_count": 47,
     "metadata": {},
     "output_type": "execute_result"
    }
   ],
   "source": [
    "n.parameters()"
   ]
  },
  {
   "cell_type": "code",
   "execution_count": 31,
   "id": "2d539358-de12-4c6b-8057-a3f0e888d0f2",
   "metadata": {},
   "outputs": [
    {
     "data": {
      "text/plain": [
       "41"
      ]
     },
     "execution_count": 31,
     "metadata": {},
     "output_type": "execute_result"
    }
   ],
   "source": [
    "len(n.parameters())"
   ]
  },
  {
   "cell_type": "markdown",
   "id": "957fdb31-419a-4dde-aa08-3e6693a9b8b2",
   "metadata": {},
   "source": [
    "### Now As we have the parameter details of our NN Now to improve our NN prediction we will try to adjust the parameter details by studying the grad of a parameter. If the grad is -ve means increasing that data will decrease the loss and for +ve decreasing thar velue will decrease the loss value\n",
    "\n",
    "### will try to nudje this by a vary small factor , will update the data of params, forward pass (the prediction), backword pass , check loss, check output , repeat until get get our desired output.\n",
    "\n",
    "### we change the data by a very large factor then we might missed or jump from a actual point so we will do it by a small factor"
   ]
  },
  {
   "cell_type": "code",
   "execution_count": 73,
   "id": "b42ffda3-51d1-4639-939e-62b547af66c3",
   "metadata": {},
   "outputs": [],
   "source": [
    "for p in n.parameters():\n",
    "    p.data += -0.01 * p.grad\n",
    "    #0.01 is tge factor we are using and multiplying with it's grad . If grad is -ve the we will increase the p.data\n",
    "    # value , if grad is +ve the we will decrease the p.data value to improve/reduce the loss"
   ]
  },
  {
   "cell_type": "markdown",
   "id": "e8619526-27a0-4bad-814b-2eaf0a3e768c",
   "metadata": {},
   "source": [
    "### Just a update :- after repeatating doing (alomost 10-15 times) the will update the data of params (above step), forward pass (the prediction), backword pass of loss, check loss, check output , repeat until get get our desired output.\n",
    "\n",
    "### I am getting\n",
    "\n",
    "### sum_loss = Value(data=0.00026681370731452246 label=)\n",
    "### output = [Value(data=0.9916299758014671 label=),\n",
    "### Value(data=-0.9994584618317435 label=),\n",
    "### Value(data=-0.9994315982467912 label=),\n",
    "### Value(data=0.9859949988186446 label=)]\n",
    "\n",
    "### which is alomost matiching out desired output [1.0,-1.0,-1.0,1.0]\n",
    "\n",
    "\n",
    "\n",
    "### Below I am accumulating all the steps in one"
   ]
  },
  {
   "cell_type": "code",
   "execution_count": null,
   "id": "337f5373-8ca0-469c-b2e0-318321e6962c",
   "metadata": {},
   "outputs": [],
   "source": [
    "# Just accumulating this septs together also\n",
    "n = MLP(3,[4,4,1]) # nn\n",
    "# inputs\n",
    "xs = [\n",
    "    [2.0,3.0,-1.0],\n",
    "    [3.0,-1.0,0.5],\n",
    "    [0.5,1.0,1.0],\n",
    "    [1.0,1.0,-1.0]\n",
    "]\n",
    "ys = [1.0,-1.0,-1.0,1.0] #desired targets\n",
    "ypred = []"
   ]
  },
  {
   "cell_type": "code",
   "execution_count": 123,
   "id": "cca74e27-e590-4563-8e83-10729084d8fa",
   "metadata": {},
   "outputs": [
    {
     "name": "stdout",
     "output_type": "stream",
     "text": [
      "0 Value(data=0.00010971884783576814 label=)\n",
      "1 Value(data=0.00010914930111831838 label=)\n",
      "2 Value(data=0.00010858557985609301 label=)\n",
      "3 Value(data=0.00010802759547124167 label=)\n",
      "4 Value(data=0.00010747526116912858 label=)\n",
      "5 Value(data=0.00010692849189374205 label=)\n",
      "6 Value(data=0.00010638720428442324 label=)\n",
      "7 Value(data=0.00010585131663389146 label=)\n",
      "8 Value(data=0.00010532074884748572 label=)\n",
      "9 Value(data=0.00010479542240363723 label=)\n",
      "10 Value(data=0.00010427526031547518 label=)\n",
      "11 Value(data=0.0001037601870935574 label=)\n",
      "12 Value(data=0.00010325012870967694 label=)\n",
      "13 Value(data=0.0001027450125617264 label=)\n",
      "14 Value(data=0.00010224476743956283 label=)\n",
      "15 Value(data=0.00010174932349182495 label=)\n",
      "16 Value(data=0.00010125861219374132 label=)\n",
      "17 Value(data=0.00010077256631580677 label=)\n",
      "18 Value(data=0.00010029111989336536 label=)\n",
      "19 Value(data=9.934176770393891e-05 label=)\n"
     ]
    }
   ],
   "source": [
    "\n",
    "for step in range(20):\n",
    "\n",
    "    # forward pass\n",
    "    ypred = [n(x) for x in xs]\n",
    "    loss = sum([(ygt-yout)**2 for ygt,yout in zip(ys,ypred)])\n",
    "\n",
    "    # before calling the backword pass we need to reset the grad for that parameters that we going to update\n",
    "    # this is because gard is getting accumulated , so we need to flush the grad and reset it to 1 befor calculating\n",
    "    # the backword pass which is going add the update grads in the nodes\n",
    "    # other wise old grad stays and new grad is getting accumulated on top if it\n",
    "    for p in n.parameters():\n",
    "        p.grad = 0.0\n",
    "    # backword pass\n",
    "    loss.backward()\n",
    "\n",
    "    # update the params\n",
    "    for p in n.parameters():\n",
    "        p.data += -0.05 * p.grad\n",
    "\n",
    "    # edge case for the last round\n",
    "    if step == 19:\n",
    "        # forward pass\n",
    "        ypred = [n(x) for x in xs]\n",
    "        loss = sum([(ygt-yout)**2 for ygt,yout in zip(ys,ypred)])\n",
    "    \n",
    "        # backword pass\n",
    "        loss.backward()\n",
    "        \n",
    "    print(step, loss)"
   ]
  },
  {
   "cell_type": "code",
   "execution_count": 124,
   "id": "237025f7-d3ad-4076-9066-1d0075450b66",
   "metadata": {},
   "outputs": [
    {
     "data": {
      "text/plain": [
       "[Value(data=0.995526843332068 label=),\n",
       " Value(data=-0.9967037769414128 label=),\n",
       " Value(data=-0.9943248049644591 label=),\n",
       " Value(data=0.9939783962281894 label=)]"
      ]
     },
     "execution_count": 124,
     "metadata": {},
     "output_type": "execute_result"
    }
   ],
   "source": [
    "ypred"
   ]
  },
  {
   "cell_type": "code",
   "execution_count": null,
   "id": "6b337abe-9e5e-49c0-8e4f-737c4c412a67",
   "metadata": {},
   "outputs": [],
   "source": []
  }
 ],
 "metadata": {
  "kernelspec": {
   "display_name": "Python 3 (ipykernel)",
   "language": "python",
   "name": "python3"
  },
  "language_info": {
   "codemirror_mode": {
    "name": "ipython",
    "version": 3
   },
   "file_extension": ".py",
   "mimetype": "text/x-python",
   "name": "python",
   "nbconvert_exporter": "python",
   "pygments_lexer": "ipython3",
   "version": "3.10.12"
  }
 },
 "nbformat": 4,
 "nbformat_minor": 5
}
