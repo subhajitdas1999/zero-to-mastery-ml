{
 "cells": [
  {
   "cell_type": "code",
   "execution_count": 1,
   "id": "f5faf0ac-1cb3-4ee3-b52c-83118752969e",
   "metadata": {},
   "outputs": [],
   "source": [
    "import math\n",
    "import numpy as np\n",
    "import matplotlib.pyplot as plt\n",
    "%matplotlib inline"
   ]
  },
  {
   "cell_type": "code",
   "execution_count": 2,
   "id": "86577e5b-1e24-4fc3-94d3-ea2aba73b6f6",
   "metadata": {},
   "outputs": [],
   "source": [
    "def f(x):\n",
    "    return 3*x**2 - 4*x + 5"
   ]
  },
  {
   "cell_type": "code",
   "execution_count": 3,
   "id": "749112e3-8033-410f-80aa-71497be10388",
   "metadata": {},
   "outputs": [
    {
     "data": {
      "text/plain": [
       "20.0"
      ]
     },
     "execution_count": 3,
     "metadata": {},
     "output_type": "execute_result"
    }
   ],
   "source": [
    "f(3.0)"
   ]
  },
  {
   "cell_type": "code",
   "execution_count": 4,
   "id": "e3878580-2b9a-45ea-91ad-8994ad9d23eb",
   "metadata": {},
   "outputs": [],
   "source": [
    "xs = np.arange(-5,5,0.25)"
   ]
  },
  {
   "cell_type": "code",
   "execution_count": 5,
   "id": "d83cfb79-f07f-4fb5-842d-dd84d1a1918f",
   "metadata": {},
   "outputs": [
    {
     "name": "stdout",
     "output_type": "stream",
     "text": [
      "[-5.   -4.75 -4.5  -4.25 -4.   -3.75 -3.5  -3.25 -3.   -2.75 -2.5  -2.25\n",
      " -2.   -1.75 -1.5  -1.25 -1.   -0.75 -0.5  -0.25  0.    0.25  0.5   0.75\n",
      "  1.    1.25  1.5   1.75  2.    2.25  2.5   2.75  3.    3.25  3.5   3.75\n",
      "  4.    4.25  4.5   4.75]\n"
     ]
    }
   ],
   "source": [
    "print(xs)"
   ]
  },
  {
   "cell_type": "code",
   "execution_count": 6,
   "id": "04077f99-2c4c-4449-89d1-f747073379b4",
   "metadata": {},
   "outputs": [
    {
     "name": "stdout",
     "output_type": "stream",
     "text": [
      "[100.      91.6875  83.75    76.1875  69.      62.1875  55.75    49.6875\n",
      "  44.      38.6875  33.75    29.1875  25.      21.1875  17.75    14.6875\n",
      "  12.       9.6875   7.75     6.1875   5.       4.1875   3.75     3.6875\n",
      "   4.       4.6875   5.75     7.1875   9.      11.1875  13.75    16.6875\n",
      "  20.      23.6875  27.75    32.1875  37.      42.1875  47.75    53.6875]\n"
     ]
    }
   ],
   "source": [
    " ys = f(xs)\n",
    "print(ys)"
   ]
  },
  {
   "cell_type": "code",
   "execution_count": 7,
   "id": "1ee68adf-c514-4c7a-b513-88b8f41e03f4",
   "metadata": {},
   "outputs": [
    {
     "data": {
      "text/plain": [
       "[<matplotlib.lines.Line2D at 0x76ded983e020>]"
      ]
     },
     "execution_count": 7,
     "metadata": {},
     "output_type": "execute_result"
    },
    {
     "data": {
      "image/png": "[encoded data removed]",
      "text/plain": [
       "<Figure size 640x480 with 1 Axes>"
      ]
     },
     "metadata": {},
     "output_type": "display_data"
    }
   ],
   "source": [
    "plt.plot(xs,ys)"
   ]
  },
  {
   "cell_type": "code",
   "execution_count": 8,
   "id": "5429469c-bc0c-413b-a818-8a4356000b24",
   "metadata": {},
   "outputs": [
    {
     "data": {
      "text/plain": [
       "14.000270000025239"
      ]
     },
     "execution_count": 8,
     "metadata": {},
     "output_type": "execute_result"
    }
   ],
   "source": [
    "h=0.00009\n",
    "a = 3\n",
    "(f(a+h)-f(a))/h"
   ]
  },
  {
   "cell_type": "code",
   "execution_count": 25,
   "id": "7d9acfe8-75ca-4b0c-85c4-3876384c1cda",
   "metadata": {},
   "outputs": [],
   "source": [
    "class Value:\n",
    "    def __init__(self,data, _children=(),_op=\"\",label=\"\"):\n",
    "        self.data = data\n",
    "        self.grad = 0.0\n",
    "        self._prev = set(_children)\n",
    "        self._op = _op\n",
    "        self.label = label\n",
    "\n",
    "    def __repr__(self):\n",
    "        return f\"Value(data={self.data})\"\n",
    "\n",
    "    def __add__(self,other):\n",
    "        out = Value(self.data + other.data,(self,other),\"+\")\n",
    "        return out\n",
    "    def __mul__(self,other):\n",
    "        out = Value(self.data * other.data,(self,other),\"*\")\n",
    "        return out\n",
    "    def tanh(self):\n",
    "        n = self.data\n",
    "        x = (math.exp(2*n) - 1) / (math.exp(2*n) + 1)\n",
    "        out = Value(x,(self,),\"tanh\")\n",
    "        return out\n",
    "\n",
    "a = Value(2.0,label=\"a\")\n",
    "b = Value(-3.0, label=\"b\")\n",
    "c = Value(10.0, label=\"c\")\n",
    "e = a * b ; e.label=\"e\"\n",
    "d= e + c; d.label=\"d\"\n",
    "f = Value(-2.0,label=\"f\")\n",
    "L = d * f; L.label=\"L\"\n"
   ]
  },
  {
   "cell_type": "code",
   "execution_count": 10,
   "id": "2bbfc2d5-337c-4829-8f76-8fb26e8d5543",
   "metadata": {},
   "outputs": [
    {
     "data": {
      "text/plain": [
       "{Value(data=-6.0), Value(data=10.0)}"
      ]
     },
     "execution_count": 10,
     "metadata": {},
     "output_type": "execute_result"
    }
   ],
   "source": [
    "d._prev"
   ]
  },
  {
   "cell_type": "code",
   "execution_count": 11,
   "id": "e4ec5f8e-2036-45d6-bee7-9852d7c259b7",
   "metadata": {},
   "outputs": [],
   "source": [
    "# !pip install graphviz"
   ]
  },
  {
   "cell_type": "code",
   "execution_count": 12,
   "id": "acdb0706-f830-46c1-9b88-1bd0d4dedaf7",
   "metadata": {},
   "outputs": [],
   "source": [
    "from graphviz import Digraph\n",
    "\n",
    "def trace(root):\n",
    "    nodes, edges = set(), set()\n",
    "    def build(v):\n",
    "        if v not in nodes:\n",
    "            nodes.add(v)\n",
    "            for child in v._prev:\n",
    "                edges.add((child, v))\n",
    "                build(child)\n",
    "    build(root)\n",
    "    return nodes, edges\n",
    "\n",
    "def draw_dot(root):\n",
    " \n",
    "    dot = Digraph(format=\"svg\", graph_attr={'rankdir': 'LR'}) # LR = Left to Right\n",
    "    nodes, edges = trace(root)\n",
    "    \n",
    "    for n in nodes:\n",
    "        uid = str(id(n))\n",
    "        dot.node(name=uid, label = \"{ %s | data %.4f | grad %.4f}\" % (n.label, n.data, n.grad), shape='record')\n",
    "\n",
    "        if n._op:\n",
    "            dot.node(name=uid + n._op, label=n._op)\n",
    "            dot.edge(uid + n._op, str(id(n)))\n",
    "    \n",
    "    for n1, n2 in edges:\n",
    "        dot.edge(str(id(n1)), str(id(n2)) + n2._op)\n",
    "    \n",
    "    return dot"
   ]
  },
  {
   "cell_type": "code",
   "execution_count": 13,
   "id": "0207be2f-0bff-4d86-a920-79fe57584af3",
   "metadata": {
    "scrolled": true
   },
   "outputs": [
    {
     "data": {
      "image/svg+xml": [
       "<?xml version=\"1.0\" encoding=\"UTF-8\" standalone=\"no\"?>\n",
       "<!DOCTYPE svg PUBLIC \"-//W3C//DTD SVG 1.1//EN\"\n",
       " \"http://www.w3.org/Graphics/SVG/1.1/DTD/svg11.dtd\">\n",
       "<!-- Generated by graphviz version 2.43.0 (0)\n",
       " -->\n",
       "<!-- Title: %3 Pages: 1 -->\n",
       "<svg width=\"1332pt\" height=\"156pt\"\n",
       " viewBox=\"0.00 0.00 1332.00 156.00\" xmlns=\"http://www.w3.org/2000/svg\" xmlns:xlink=\"http://www.w3.org/1999/xlink\">\n",
       "<g id=\"graph0\" class=\"graph\" transform=\"scale(1 1) rotate(0) translate(4 152)\">\n",
       "<title>%3</title>\n",
       "<polygon fill=\"white\" stroke=\"transparent\" points=\"-4,4 -4,-152 1328,-152 1328,4 -4,4\"/>\n",
       "<!-- 130699505646656 -->\n",
       "<g id=\"node1\" class=\"node\">\n",
       "<title>130699505646656</title>\n",
       "<polygon fill=\"none\" stroke=\"black\" points=\"3,-111.5 3,-147.5 234,-147.5 234,-111.5 3,-111.5\"/>\n",
       "<text text-anchor=\"middle\" x=\"15.5\" y=\"-125.8\" font-family=\"Times,serif\" font-size=\"14.00\">a</text>\n",
       "<polyline fill=\"none\" stroke=\"black\" points=\"28,-111.5 28,-147.5 \"/>\n",
       "<text text-anchor=\"middle\" x=\"79\" y=\"-125.8\" font-family=\"Times,serif\" font-size=\"14.00\">data 2.0000</text>\n",
       "<polyline fill=\"none\" stroke=\"black\" points=\"130,-111.5 130,-147.5 \"/>\n",
       "<text text-anchor=\"middle\" x=\"182\" y=\"-125.8\" font-family=\"Times,serif\" font-size=\"14.00\">grad 0.0000</text>\n",
       "</g>\n",
       "<!-- 130699504709936* -->\n",
       "<g id=\"node6\" class=\"node\">\n",
       "<title>130699504709936*</title>\n",
       "<ellipse fill=\"none\" stroke=\"black\" cx=\"300\" cy=\"-101.5\" rx=\"27\" ry=\"18\"/>\n",
       "<text text-anchor=\"middle\" x=\"300\" y=\"-97.8\" font-family=\"Times,serif\" font-size=\"14.00\">*</text>\n",
       "</g>\n",
       "<!-- 130699505646656&#45;&gt;130699504709936* -->\n",
       "<g id=\"edge9\" class=\"edge\">\n",
       "<title>130699505646656&#45;&gt;130699504709936*</title>\n",
       "<path fill=\"none\" stroke=\"black\" d=\"M234.2,-111.61C244.76,-109.96 254.83,-108.39 263.74,-107\"/>\n",
       "<polygon fill=\"black\" stroke=\"black\" points=\"264.3,-110.46 273.64,-105.46 263.22,-103.54 264.3,-110.46\"/>\n",
       "</g>\n",
       "<!-- 130699504712384 -->\n",
       "<g id=\"node2\" class=\"node\">\n",
       "<title>130699504712384</title>\n",
       "<polygon fill=\"none\" stroke=\"black\" points=\"363,-28.5 363,-64.5 602,-64.5 602,-28.5 363,-28.5\"/>\n",
       "<text text-anchor=\"middle\" x=\"375\" y=\"-42.8\" font-family=\"Times,serif\" font-size=\"14.00\">c</text>\n",
       "<polyline fill=\"none\" stroke=\"black\" points=\"387,-28.5 387,-64.5 \"/>\n",
       "<text text-anchor=\"middle\" x=\"442.5\" y=\"-42.8\" font-family=\"Times,serif\" font-size=\"14.00\">data 10.0000</text>\n",
       "<polyline fill=\"none\" stroke=\"black\" points=\"498,-28.5 498,-64.5 \"/>\n",
       "<text text-anchor=\"middle\" x=\"550\" y=\"-42.8\" font-family=\"Times,serif\" font-size=\"14.00\">grad 0.0000</text>\n",
       "</g>\n",
       "<!-- 130699504713056+ -->\n",
       "<g id=\"node8\" class=\"node\">\n",
       "<title>130699504713056+</title>\n",
       "<ellipse fill=\"none\" stroke=\"black\" cx=\"665\" cy=\"-73.5\" rx=\"27\" ry=\"18\"/>\n",
       "<text text-anchor=\"middle\" x=\"665\" y=\"-69.8\" font-family=\"Times,serif\" font-size=\"14.00\">+</text>\n",
       "</g>\n",
       "<!-- 130699504712384&#45;&gt;130699504713056+ -->\n",
       "<g id=\"edge4\" class=\"edge\">\n",
       "<title>130699504712384&#45;&gt;130699504713056+</title>\n",
       "<path fill=\"none\" stroke=\"black\" d=\"M602.13,-64.25C611.53,-65.65 620.47,-66.99 628.48,-68.19\"/>\n",
       "<polygon fill=\"black\" stroke=\"black\" points=\"628.03,-71.66 638.44,-69.68 629.07,-64.74 628.03,-71.66\"/>\n",
       "</g>\n",
       "<!-- 130699504712912 -->\n",
       "<g id=\"node3\" class=\"node\">\n",
       "<title>130699504712912</title>\n",
       "<polygon fill=\"none\" stroke=\"black\" points=\"1087,-27.5 1087,-63.5 1324,-63.5 1324,-27.5 1087,-27.5\"/>\n",
       "<text text-anchor=\"middle\" x=\"1100\" y=\"-41.8\" font-family=\"Times,serif\" font-size=\"14.00\">L</text>\n",
       "<polyline fill=\"none\" stroke=\"black\" points=\"1113,-27.5 1113,-63.5 \"/>\n",
       "<text text-anchor=\"middle\" x=\"1166.5\" y=\"-41.8\" font-family=\"Times,serif\" font-size=\"14.00\">data &#45;8.0000</text>\n",
       "<polyline fill=\"none\" stroke=\"black\" points=\"1220,-27.5 1220,-63.5 \"/>\n",
       "<text text-anchor=\"middle\" x=\"1272\" y=\"-41.8\" font-family=\"Times,serif\" font-size=\"14.00\">grad 0.0000</text>\n",
       "</g>\n",
       "<!-- 130699504712912* -->\n",
       "<g id=\"node4\" class=\"node\">\n",
       "<title>130699504712912*</title>\n",
       "<ellipse fill=\"none\" stroke=\"black\" cx=\"1024\" cy=\"-45.5\" rx=\"27\" ry=\"18\"/>\n",
       "<text text-anchor=\"middle\" x=\"1024\" y=\"-41.8\" font-family=\"Times,serif\" font-size=\"14.00\">*</text>\n",
       "</g>\n",
       "<!-- 130699504712912*&#45;&gt;130699504712912 -->\n",
       "<g id=\"edge1\" class=\"edge\">\n",
       "<title>130699504712912*&#45;&gt;130699504712912</title>\n",
       "<path fill=\"none\" stroke=\"black\" d=\"M1051.1,-45.5C1058.61,-45.5 1067.33,-45.5 1076.75,-45.5\"/>\n",
       "<polygon fill=\"black\" stroke=\"black\" points=\"1076.78,-49 1086.78,-45.5 1076.78,-42 1076.78,-49\"/>\n",
       "</g>\n",
       "<!-- 130699504709936 -->\n",
       "<g id=\"node5\" class=\"node\">\n",
       "<title>130699504709936</title>\n",
       "<polygon fill=\"none\" stroke=\"black\" points=\"364.5,-83.5 364.5,-119.5 600.5,-119.5 600.5,-83.5 364.5,-83.5\"/>\n",
       "<text text-anchor=\"middle\" x=\"377\" y=\"-97.8\" font-family=\"Times,serif\" font-size=\"14.00\">e</text>\n",
       "<polyline fill=\"none\" stroke=\"black\" points=\"389.5,-83.5 389.5,-119.5 \"/>\n",
       "<text text-anchor=\"middle\" x=\"443\" y=\"-97.8\" font-family=\"Times,serif\" font-size=\"14.00\">data &#45;6.0000</text>\n",
       "<polyline fill=\"none\" stroke=\"black\" points=\"496.5,-83.5 496.5,-119.5 \"/>\n",
       "<text text-anchor=\"middle\" x=\"548.5\" y=\"-97.8\" font-family=\"Times,serif\" font-size=\"14.00\">grad 0.0000</text>\n",
       "</g>\n",
       "<!-- 130699504709936&#45;&gt;130699504713056+ -->\n",
       "<g id=\"edge8\" class=\"edge\">\n",
       "<title>130699504709936&#45;&gt;130699504713056+</title>\n",
       "<path fill=\"none\" stroke=\"black\" d=\"M599.6,-83.49C609.91,-81.89 619.74,-80.37 628.46,-79.01\"/>\n",
       "<polygon fill=\"black\" stroke=\"black\" points=\"629.18,-82.44 638.52,-77.45 628.1,-75.53 629.18,-82.44\"/>\n",
       "</g>\n",
       "<!-- 130699504709936*&#45;&gt;130699504709936 -->\n",
       "<g id=\"edge2\" class=\"edge\">\n",
       "<title>130699504709936*&#45;&gt;130699504709936</title>\n",
       "<path fill=\"none\" stroke=\"black\" d=\"M327.25,-101.5C335.09,-101.5 344.27,-101.5 354.17,-101.5\"/>\n",
       "<polygon fill=\"black\" stroke=\"black\" points=\"354.28,-105 364.28,-101.5 354.28,-98 354.28,-105\"/>\n",
       "</g>\n",
       "<!-- 130699504713056 -->\n",
       "<g id=\"node7\" class=\"node\">\n",
       "<title>130699504713056</title>\n",
       "<polygon fill=\"none\" stroke=\"black\" points=\"728.5,-55.5 728.5,-91.5 960.5,-91.5 960.5,-55.5 728.5,-55.5\"/>\n",
       "<text text-anchor=\"middle\" x=\"741.5\" y=\"-69.8\" font-family=\"Times,serif\" font-size=\"14.00\">d</text>\n",
       "<polyline fill=\"none\" stroke=\"black\" points=\"754.5,-55.5 754.5,-91.5 \"/>\n",
       "<text text-anchor=\"middle\" x=\"805.5\" y=\"-69.8\" font-family=\"Times,serif\" font-size=\"14.00\">data 4.0000</text>\n",
       "<polyline fill=\"none\" stroke=\"black\" points=\"856.5,-55.5 856.5,-91.5 \"/>\n",
       "<text text-anchor=\"middle\" x=\"908.5\" y=\"-69.8\" font-family=\"Times,serif\" font-size=\"14.00\">grad 0.0000</text>\n",
       "</g>\n",
       "<!-- 130699504713056&#45;&gt;130699504712912* -->\n",
       "<g id=\"edge5\" class=\"edge\">\n",
       "<title>130699504713056&#45;&gt;130699504712912*</title>\n",
       "<path fill=\"none\" stroke=\"black\" d=\"M959.67,-55.49C969.61,-53.92 979.08,-52.43 987.53,-51.1\"/>\n",
       "<polygon fill=\"black\" stroke=\"black\" points=\"988.31,-54.52 997.64,-49.5 987.22,-47.6 988.31,-54.52\"/>\n",
       "</g>\n",
       "<!-- 130699504713056+&#45;&gt;130699504713056 -->\n",
       "<g id=\"edge3\" class=\"edge\">\n",
       "<title>130699504713056+&#45;&gt;130699504713056</title>\n",
       "<path fill=\"none\" stroke=\"black\" d=\"M692.19,-73.5C699.78,-73.5 708.61,-73.5 718.11,-73.5\"/>\n",
       "<polygon fill=\"black\" stroke=\"black\" points=\"718.24,-77 728.24,-73.5 718.24,-70 718.24,-77\"/>\n",
       "</g>\n",
       "<!-- 130699505860960 -->\n",
       "<g id=\"node9\" class=\"node\">\n",
       "<title>130699505860960</title>\n",
       "<polygon fill=\"none\" stroke=\"black\" points=\"0,-56.5 0,-92.5 237,-92.5 237,-56.5 0,-56.5\"/>\n",
       "<text text-anchor=\"middle\" x=\"13\" y=\"-70.8\" font-family=\"Times,serif\" font-size=\"14.00\">b</text>\n",
       "<polyline fill=\"none\" stroke=\"black\" points=\"26,-56.5 26,-92.5 \"/>\n",
       "<text text-anchor=\"middle\" x=\"79.5\" y=\"-70.8\" font-family=\"Times,serif\" font-size=\"14.00\">data &#45;3.0000</text>\n",
       "<polyline fill=\"none\" stroke=\"black\" points=\"133,-56.5 133,-92.5 \"/>\n",
       "<text text-anchor=\"middle\" x=\"185\" y=\"-70.8\" font-family=\"Times,serif\" font-size=\"14.00\">grad 0.0000</text>\n",
       "</g>\n",
       "<!-- 130699505860960&#45;&gt;130699504709936* -->\n",
       "<g id=\"edge7\" class=\"edge\">\n",
       "<title>130699505860960&#45;&gt;130699504709936*</title>\n",
       "<path fill=\"none\" stroke=\"black\" d=\"M237.23,-92.21C246.6,-93.62 255.52,-94.96 263.52,-96.16\"/>\n",
       "<polygon fill=\"black\" stroke=\"black\" points=\"263.06,-99.63 273.47,-97.66 264.1,-92.71 263.06,-99.63\"/>\n",
       "</g>\n",
       "<!-- 130699504713152 -->\n",
       "<g id=\"node10\" class=\"node\">\n",
       "<title>130699504713152</title>\n",
       "<polygon fill=\"none\" stroke=\"black\" points=\"728,-0.5 728,-36.5 961,-36.5 961,-0.5 728,-0.5\"/>\n",
       "<text text-anchor=\"middle\" x=\"739\" y=\"-14.8\" font-family=\"Times,serif\" font-size=\"14.00\">f</text>\n",
       "<polyline fill=\"none\" stroke=\"black\" points=\"750,-0.5 750,-36.5 \"/>\n",
       "<text text-anchor=\"middle\" x=\"803.5\" y=\"-14.8\" font-family=\"Times,serif\" font-size=\"14.00\">data &#45;2.0000</text>\n",
       "<polyline fill=\"none\" stroke=\"black\" points=\"857,-0.5 857,-36.5 \"/>\n",
       "<text text-anchor=\"middle\" x=\"909\" y=\"-14.8\" font-family=\"Times,serif\" font-size=\"14.00\">grad 0.0000</text>\n",
       "</g>\n",
       "<!-- 130699504713152&#45;&gt;130699504712912* -->\n",
       "<g id=\"edge6\" class=\"edge\">\n",
       "<title>130699504713152&#45;&gt;130699504712912*</title>\n",
       "<path fill=\"none\" stroke=\"black\" d=\"M961.42,-36.13C970.75,-37.55 979.64,-38.9 987.61,-40.12\"/>\n",
       "<polygon fill=\"black\" stroke=\"black\" points=\"987.11,-43.58 997.52,-41.62 988.16,-36.66 987.11,-43.58\"/>\n",
       "</g>\n",
       "</g>\n",
       "</svg>\n"
      ],
      "text/plain": [
       "<graphviz.graphs.Digraph at 0x76ded7708220>"
      ]
     },
     "execution_count": 13,
     "metadata": {},
     "output_type": "execute_result"
    }
   ],
   "source": [
    "draw_dot(L)"
   ]
  },
  {
   "cell_type": "markdown",
   "id": "c972a72e-caf1-496b-9eec-5ca1099a10b9",
   "metadata": {},
   "source": [
    "### time to fill up the grad and do back propagation manualy"
   ]
  },
  {
   "cell_type": "code",
   "execution_count": 14,
   "id": "6e655bca-a896-41ee-9dc6-ee063fdec2fa",
   "metadata": {},
   "outputs": [],
   "source": [
    "# for L node\n",
    "# derivative of L w.r.t L (if I change L by a tiny amount of h how much does L change)\n",
    "# dL/ dL = 1 "
   ]
  },
  {
   "cell_type": "code",
   "execution_count": 15,
   "id": "e7b3cc97-654c-4711-995d-34ac8e9a1e26",
   "metadata": {},
   "outputs": [],
   "source": [
    "L.grad = 1.0"
   ]
  },
  {
   "cell_type": "code",
   "execution_count": 16,
   "id": "fbead629-75f9-4f00-a53e-5ad2844659ba",
   "metadata": {},
   "outputs": [],
   "source": [
    "# now for the node d and f\n",
    "# dL/dd = ? and dL/df ?\n",
    "# L = d*f =\n",
    "#  dL/ dd = f = -2.0 and dL/df = d = 4.0\n",
    "d.grad = -2.0\n",
    "f.grad = 4.0"
   ]
  },
  {
   "cell_type": "code",
   "execution_count": 17,
   "id": "914b8183-9844-4960-8852-9d2954dcd852",
   "metadata": {},
   "outputs": [],
   "source": [
    "# Now for the node c and e\n",
    "# d = c + e\n",
    "# dL/dc and dL/de\n",
    "# using chain rule by looking at the equation \n",
    "# dL/dc = dL/dd x dd/dc (dL/dd = -2.0 from previous step)\n",
    "#       = -2.0 x d/dc (c + e) = -2.0 x 1 = -2.0\n",
    "# dL/dc = 12.0\n",
    "# dL/de = dL/dd x dd/de = -2.0 x 1 = -2.0 \n",
    "c.grad = -2.0\n",
    "e.grad = -2.0"
   ]
  },
  {
   "cell_type": "code",
   "execution_count": 18,
   "id": "247496e3-b204-455c-b884-b494518d7897",
   "metadata": {},
   "outputs": [],
   "source": [
    "# Now calculating for a , b\n",
    "# a * b = e\n",
    "# dL/da = ? and dL/db = ?\n",
    "# again using a chain rule now\n",
    "# by looking at the equvalent equation\n",
    "# dL/da = dL/de * de/da = -2.0 * d/da (ab) = -2.0 * b = -2.0 * -3.0 = 6\n",
    "# dL/db = dL/de * de/db = -2.0 * d/db (ab) = -2.0 * a = -2.0 * 2.0 = -4.0\n",
    "a.grad = 6.0\n",
    "b.grad = -4.0"
   ]
  },
  {
   "cell_type": "code",
   "execution_count": 19,
   "id": "78d7fce6-c31c-4849-8364-b6274896f7dc",
   "metadata": {},
   "outputs": [
    {
     "name": "stdout",
     "output_type": "stream",
     "text": [
      "-3.9999999999995595\n"
     ]
    }
   ],
   "source": [
    "# Test the derivative numericals manually\n",
    "\n",
    "def lol():\n",
    "\n",
    "    h= 0.001\n",
    "    \n",
    "    a = Value(2.0,label=\"a\")\n",
    "    b = Value(-3.0, label=\"b\")\n",
    "    c = Value(10.0, label=\"c\")\n",
    "    e = a * b ; e.label=\"e\"\n",
    "    d= e + c; d.label=\"d\"\n",
    "    f = Value(-2.0,label=\"f\")\n",
    "    L = d * f; L.label=\"L\"\n",
    "    L1 = L.data\n",
    "\n",
    "    a = Value(2.0,label=\"a\")\n",
    "    b = Value(-3.0 + h, label=\"b\")\n",
    "    c = Value(10.0, label=\"c\")\n",
    "    e = a * b ; e.label=\"e\"\n",
    "    d= e + c; d.label=\"d\"\n",
    "    f = Value(-2.0,label=\"f\")\n",
    "    L = d * f; L.label=\"L\"\n",
    "    L2 = L.data\n",
    "\n",
    "    print((L2 - L1) / h)\n",
    "\n",
    "lol()"
   ]
  },
  {
   "cell_type": "code",
   "execution_count": 20,
   "id": "0480f0be-b27a-48d3-8635-e096371fc03f",
   "metadata": {},
   "outputs": [],
   "source": [
    "# print(np.tanh(-19))"
   ]
  },
  {
   "cell_type": "code",
   "execution_count": 21,
   "id": "620acb04-6bad-4426-8d8a-580b1d4ed1fa",
   "metadata": {},
   "outputs": [
    {
     "data": {
      "image/png": "[encoded data removed]",
      "text/plain": [
       "<Figure size 640x480 with 1 Axes>"
      ]
     },
     "metadata": {},
     "output_type": "display_data"
    }
   ],
   "source": [
    "plt.plot(np.arange(-5,5,0.2),np.tanh(np.arange(-5,5,0.2)))\n",
    "plt.grid()"
   ]
  },
  {
   "cell_type": "markdown",
   "id": "10dcc263-2976-4431-b1d3-612c7692d444",
   "metadata": {},
   "source": [
    "## Now I am gonna implement a small nueron , and use tanh as a squash func\n",
    "![nueron](https://cs231n.github.io/assets/nn1/neuron_model.jpeg)"
   ]
  },
  {
   "cell_type": "code",
   "execution_count": 53,
   "id": "75986fa9-b755-47d6-98af-90fa78e915ce",
   "metadata": {},
   "outputs": [],
   "source": [
    "# inputs variables\n",
    "x1 = Value(2.0,label=\"x1\")\n",
    "x2 = Value(0,label=\"x2\")\n",
    "\n",
    "# weights \n",
    "w1 = Value(-3.0,label=\"w1\")\n",
    "w2 = Value(1.0,label=\"w2\")\n",
    "\n",
    "# bias\n",
    "b = Value(6.8813735870195432,label=\"b\")\n",
    "x1w1=x1 * w1; x1w1.label = \"x1w1\"\n",
    "x2w2 = x2 * w2;x2w2.label = \"x2w2\"\n",
    "x1w1x2w2 = x1w1 + x2w2 ; x1w1x2w2.label = \"x1w1 + x2w2\"\n",
    "\n",
    "n = x1w1x2w2 + b; n.label=\"n\"\n",
    "\n",
    "o = n.tanh();o.label=\"o\"\n"
   ]
  },
  {
   "cell_type": "code",
   "execution_count": 59,
   "id": "6496def8-a1f0-4aa0-b764-2db51db9244e",
   "metadata": {},
   "outputs": [
    {
     "data": {
      "image/svg+xml": [
       "<?xml version=\"1.0\" encoding=\"UTF-8\" standalone=\"no\"?>\n",
       "<!DOCTYPE svg PUBLIC \"-//W3C//DTD SVG 1.1//EN\"\n",
       " \"http://www.w3.org/Graphics/SVG/1.1/DTD/svg11.dtd\">\n",
       "<!-- Generated by graphviz version 2.43.0 (0)\n",
       " -->\n",
       "<!-- Title: %3 Pages: 1 -->\n",
       "<svg width=\"1825pt\" height=\"210pt\"\n",
       " viewBox=\"0.00 0.00 1824.69 210.00\" xmlns=\"http://www.w3.org/2000/svg\" xmlns:xlink=\"http://www.w3.org/1999/xlink\">\n",
       "<g id=\"graph0\" class=\"graph\" transform=\"scale(1 1) rotate(0) translate(4 206)\">\n",
       "<title>%3</title>\n",
       "<polygon fill=\"white\" stroke=\"transparent\" points=\"-4,4 -4,-206 1820.69,-206 1820.69,4 -4,4\"/>\n",
       "<!-- 130699458554912 -->\n",
       "<g id=\"node1\" class=\"node\">\n",
       "<title>130699458554912</title>\n",
       "<polygon fill=\"none\" stroke=\"black\" points=\"375,-55.5 375,-91.5 641,-91.5 641,-55.5 375,-55.5\"/>\n",
       "<text text-anchor=\"middle\" x=\"402.5\" y=\"-69.8\" font-family=\"Times,serif\" font-size=\"14.00\">x1w1</text>\n",
       "<polyline fill=\"none\" stroke=\"black\" points=\"430,-55.5 430,-91.5 \"/>\n",
       "<text text-anchor=\"middle\" x=\"483.5\" y=\"-69.8\" font-family=\"Times,serif\" font-size=\"14.00\">data &#45;6.0000</text>\n",
       "<polyline fill=\"none\" stroke=\"black\" points=\"537,-55.5 537,-91.5 \"/>\n",
       "<text text-anchor=\"middle\" x=\"589\" y=\"-69.8\" font-family=\"Times,serif\" font-size=\"14.00\">grad 0.5000</text>\n",
       "</g>\n",
       "<!-- 130699458550448+ -->\n",
       "<g id=\"node7\" class=\"node\">\n",
       "<title>130699458550448+</title>\n",
       "<ellipse fill=\"none\" stroke=\"black\" cx=\"704\" cy=\"-100.5\" rx=\"27\" ry=\"18\"/>\n",
       "<text text-anchor=\"middle\" x=\"704\" y=\"-96.8\" font-family=\"Times,serif\" font-size=\"14.00\">+</text>\n",
       "</g>\n",
       "<!-- 130699458554912&#45;&gt;130699458550448+ -->\n",
       "<g id=\"edge7\" class=\"edge\">\n",
       "<title>130699458554912&#45;&gt;130699458550448+</title>\n",
       "<path fill=\"none\" stroke=\"black\" d=\"M638.4,-91.51C648.78,-92.95 658.6,-94.32 667.3,-95.53\"/>\n",
       "<polygon fill=\"black\" stroke=\"black\" points=\"666.94,-99.01 677.32,-96.93 667.9,-92.08 666.94,-99.01\"/>\n",
       "</g>\n",
       "<!-- 130699458554912* -->\n",
       "<g id=\"node2\" class=\"node\">\n",
       "<title>130699458554912*</title>\n",
       "<ellipse fill=\"none\" stroke=\"black\" cx=\"312\" cy=\"-73.5\" rx=\"27\" ry=\"18\"/>\n",
       "<text text-anchor=\"middle\" x=\"312\" y=\"-69.8\" font-family=\"Times,serif\" font-size=\"14.00\">*</text>\n",
       "</g>\n",
       "<!-- 130699458554912*&#45;&gt;130699458554912 -->\n",
       "<g id=\"edge1\" class=\"edge\">\n",
       "<title>130699458554912*&#45;&gt;130699458554912</title>\n",
       "<path fill=\"none\" stroke=\"black\" d=\"M339.16,-73.5C346.61,-73.5 355.28,-73.5 364.68,-73.5\"/>\n",
       "<polygon fill=\"black\" stroke=\"black\" points=\"364.73,-77 374.73,-73.5 364.73,-70 364.73,-77\"/>\n",
       "</g>\n",
       "<!-- 130699458366000 -->\n",
       "<g id=\"node3\" class=\"node\">\n",
       "<title>130699458366000</title>\n",
       "<polygon fill=\"none\" stroke=\"black\" points=\"0,-55.5 0,-91.5 249,-91.5 249,-55.5 0,-55.5\"/>\n",
       "<text text-anchor=\"middle\" x=\"19\" y=\"-69.8\" font-family=\"Times,serif\" font-size=\"14.00\">w1</text>\n",
       "<polyline fill=\"none\" stroke=\"black\" points=\"38,-55.5 38,-91.5 \"/>\n",
       "<text text-anchor=\"middle\" x=\"91.5\" y=\"-69.8\" font-family=\"Times,serif\" font-size=\"14.00\">data &#45;3.0000</text>\n",
       "<polyline fill=\"none\" stroke=\"black\" points=\"145,-55.5 145,-91.5 \"/>\n",
       "<text text-anchor=\"middle\" x=\"197\" y=\"-69.8\" font-family=\"Times,serif\" font-size=\"14.00\">grad 1.0000</text>\n",
       "</g>\n",
       "<!-- 130699458366000&#45;&gt;130699458554912* -->\n",
       "<g id=\"edge9\" class=\"edge\">\n",
       "<title>130699458366000&#45;&gt;130699458554912*</title>\n",
       "<path fill=\"none\" stroke=\"black\" d=\"M249.23,-73.5C258.37,-73.5 267.05,-73.5 274.87,-73.5\"/>\n",
       "<polygon fill=\"black\" stroke=\"black\" points=\"274.95,-77 284.95,-73.5 274.95,-70 274.95,-77\"/>\n",
       "</g>\n",
       "<!-- 130699458550352 -->\n",
       "<g id=\"node4\" class=\"node\">\n",
       "<title>130699458550352</title>\n",
       "<polygon fill=\"none\" stroke=\"black\" points=\"377.5,-110.5 377.5,-146.5 638.5,-146.5 638.5,-110.5 377.5,-110.5\"/>\n",
       "<text text-anchor=\"middle\" x=\"405\" y=\"-124.8\" font-family=\"Times,serif\" font-size=\"14.00\">x2w2</text>\n",
       "<polyline fill=\"none\" stroke=\"black\" points=\"432.5,-110.5 432.5,-146.5 \"/>\n",
       "<text text-anchor=\"middle\" x=\"483.5\" y=\"-124.8\" font-family=\"Times,serif\" font-size=\"14.00\">data 0.0000</text>\n",
       "<polyline fill=\"none\" stroke=\"black\" points=\"534.5,-110.5 534.5,-146.5 \"/>\n",
       "<text text-anchor=\"middle\" x=\"586.5\" y=\"-124.8\" font-family=\"Times,serif\" font-size=\"14.00\">grad 0.5000</text>\n",
       "</g>\n",
       "<!-- 130699458550352&#45;&gt;130699458550448+ -->\n",
       "<g id=\"edge10\" class=\"edge\">\n",
       "<title>130699458550352&#45;&gt;130699458550448+</title>\n",
       "<path fill=\"none\" stroke=\"black\" d=\"M633.78,-110.49C645.77,-108.76 657.15,-107.12 667.08,-105.68\"/>\n",
       "<polygon fill=\"black\" stroke=\"black\" points=\"667.86,-109.11 677.25,-104.22 666.86,-102.18 667.86,-109.11\"/>\n",
       "</g>\n",
       "<!-- 130699458550352* -->\n",
       "<g id=\"node5\" class=\"node\">\n",
       "<title>130699458550352*</title>\n",
       "<ellipse fill=\"none\" stroke=\"black\" cx=\"312\" cy=\"-128.5\" rx=\"27\" ry=\"18\"/>\n",
       "<text text-anchor=\"middle\" x=\"312\" y=\"-124.8\" font-family=\"Times,serif\" font-size=\"14.00\">*</text>\n",
       "</g>\n",
       "<!-- 130699458550352*&#45;&gt;130699458550352 -->\n",
       "<g id=\"edge2\" class=\"edge\">\n",
       "<title>130699458550352*&#45;&gt;130699458550352</title>\n",
       "<path fill=\"none\" stroke=\"black\" d=\"M339.16,-128.5C347.24,-128.5 356.75,-128.5 367.07,-128.5\"/>\n",
       "<polygon fill=\"black\" stroke=\"black\" points=\"367.2,-132 377.2,-128.5 367.2,-125 367.2,-132\"/>\n",
       "</g>\n",
       "<!-- 130699458550448 -->\n",
       "<g id=\"node6\" class=\"node\">\n",
       "<title>130699458550448</title>\n",
       "<polygon fill=\"none\" stroke=\"black\" points=\"767,-82.5 767,-118.5 1092,-118.5 1092,-82.5 767,-82.5\"/>\n",
       "<text text-anchor=\"middle\" x=\"824\" y=\"-96.8\" font-family=\"Times,serif\" font-size=\"14.00\">x1w1 + x2w2</text>\n",
       "<polyline fill=\"none\" stroke=\"black\" points=\"881,-82.5 881,-118.5 \"/>\n",
       "<text text-anchor=\"middle\" x=\"934.5\" y=\"-96.8\" font-family=\"Times,serif\" font-size=\"14.00\">data &#45;6.0000</text>\n",
       "<polyline fill=\"none\" stroke=\"black\" points=\"988,-82.5 988,-118.5 \"/>\n",
       "<text text-anchor=\"middle\" x=\"1040\" y=\"-96.8\" font-family=\"Times,serif\" font-size=\"14.00\">grad 0.5000</text>\n",
       "</g>\n",
       "<!-- 130699458550544+ -->\n",
       "<g id=\"node10\" class=\"node\">\n",
       "<title>130699458550544+</title>\n",
       "<ellipse fill=\"none\" stroke=\"black\" cx=\"1155\" cy=\"-127.5\" rx=\"27\" ry=\"18\"/>\n",
       "<text text-anchor=\"middle\" x=\"1155\" y=\"-123.8\" font-family=\"Times,serif\" font-size=\"14.00\">+</text>\n",
       "</g>\n",
       "<!-- 130699458550448&#45;&gt;130699458550544+ -->\n",
       "<g id=\"edge8\" class=\"edge\">\n",
       "<title>130699458550448&#45;&gt;130699458550544+</title>\n",
       "<path fill=\"none\" stroke=\"black\" d=\"M1079.58,-118.51C1093.66,-120.21 1106.84,-121.8 1118.09,-123.16\"/>\n",
       "<polygon fill=\"black\" stroke=\"black\" points=\"1117.89,-126.66 1128.24,-124.39 1118.73,-119.71 1117.89,-126.66\"/>\n",
       "</g>\n",
       "<!-- 130699458550448+&#45;&gt;130699458550448 -->\n",
       "<g id=\"edge3\" class=\"edge\">\n",
       "<title>130699458550448+&#45;&gt;130699458550448</title>\n",
       "<path fill=\"none\" stroke=\"black\" d=\"M731.08,-100.5C738.51,-100.5 747.21,-100.5 756.74,-100.5\"/>\n",
       "<polygon fill=\"black\" stroke=\"black\" points=\"756.95,-104 766.95,-100.5 756.95,-97 756.95,-104\"/>\n",
       "</g>\n",
       "<!-- 130699464087232 -->\n",
       "<g id=\"node8\" class=\"node\">\n",
       "<title>130699464087232</title>\n",
       "<polygon fill=\"none\" stroke=\"black\" points=\"2.5,-0.5 2.5,-36.5 246.5,-36.5 246.5,-0.5 2.5,-0.5\"/>\n",
       "<text text-anchor=\"middle\" x=\"19.5\" y=\"-14.8\" font-family=\"Times,serif\" font-size=\"14.00\">x1</text>\n",
       "<polyline fill=\"none\" stroke=\"black\" points=\"36.5,-0.5 36.5,-36.5 \"/>\n",
       "<text text-anchor=\"middle\" x=\"87.5\" y=\"-14.8\" font-family=\"Times,serif\" font-size=\"14.00\">data 2.0000</text>\n",
       "<polyline fill=\"none\" stroke=\"black\" points=\"138.5,-0.5 138.5,-36.5 \"/>\n",
       "<text text-anchor=\"middle\" x=\"192.5\" y=\"-14.8\" font-family=\"Times,serif\" font-size=\"14.00\">grad &#45;1.5000</text>\n",
       "</g>\n",
       "<!-- 130699464087232&#45;&gt;130699458554912* -->\n",
       "<g id=\"edge13\" class=\"edge\">\n",
       "<title>130699464087232&#45;&gt;130699458554912*</title>\n",
       "<path fill=\"none\" stroke=\"black\" d=\"M214.42,-36.55C226.15,-39.54 237.93,-42.87 249,-46.5 259.46,-49.93 270.57,-54.47 280.46,-58.84\"/>\n",
       "<polygon fill=\"black\" stroke=\"black\" points=\"279.31,-62.17 289.87,-63.12 282.21,-55.79 279.31,-62.17\"/>\n",
       "</g>\n",
       "<!-- 130699458550544 -->\n",
       "<g id=\"node9\" class=\"node\">\n",
       "<title>130699458550544</title>\n",
       "<polygon fill=\"none\" stroke=\"black\" points=\"1218,-109.5 1218,-145.5 1450,-145.5 1450,-109.5 1218,-109.5\"/>\n",
       "<text text-anchor=\"middle\" x=\"1231\" y=\"-123.8\" font-family=\"Times,serif\" font-size=\"14.00\">n</text>\n",
       "<polyline fill=\"none\" stroke=\"black\" points=\"1244,-109.5 1244,-145.5 \"/>\n",
       "<text text-anchor=\"middle\" x=\"1295\" y=\"-123.8\" font-family=\"Times,serif\" font-size=\"14.00\">data 0.8814</text>\n",
       "<polyline fill=\"none\" stroke=\"black\" points=\"1346,-109.5 1346,-145.5 \"/>\n",
       "<text text-anchor=\"middle\" x=\"1398\" y=\"-123.8\" font-family=\"Times,serif\" font-size=\"14.00\">grad 0.5000</text>\n",
       "</g>\n",
       "<!-- 130699458550688tanh -->\n",
       "<g id=\"node12\" class=\"node\">\n",
       "<title>130699458550688tanh</title>\n",
       "<ellipse fill=\"none\" stroke=\"black\" cx=\"1517.85\" cy=\"-127.5\" rx=\"31.7\" ry=\"18\"/>\n",
       "<text text-anchor=\"middle\" x=\"1517.85\" y=\"-123.8\" font-family=\"Times,serif\" font-size=\"14.00\">tanh</text>\n",
       "</g>\n",
       "<!-- 130699458550544&#45;&gt;130699458550688tanh -->\n",
       "<g id=\"edge14\" class=\"edge\">\n",
       "<title>130699458550544&#45;&gt;130699458550688tanh</title>\n",
       "<path fill=\"none\" stroke=\"black\" d=\"M1450.17,-127.5C1459.08,-127.5 1467.66,-127.5 1475.53,-127.5\"/>\n",
       "<polygon fill=\"black\" stroke=\"black\" points=\"1475.78,-131 1485.78,-127.5 1475.78,-124 1475.78,-131\"/>\n",
       "</g>\n",
       "<!-- 130699458550544+&#45;&gt;130699458550544 -->\n",
       "<g id=\"edge4\" class=\"edge\">\n",
       "<title>130699458550544+&#45;&gt;130699458550544</title>\n",
       "<path fill=\"none\" stroke=\"black\" d=\"M1182.12,-127.5C1189.53,-127.5 1198.14,-127.5 1207.4,-127.5\"/>\n",
       "<polygon fill=\"black\" stroke=\"black\" points=\"1207.69,-131 1217.69,-127.5 1207.69,-124 1207.69,-131\"/>\n",
       "</g>\n",
       "<!-- 130699458550688 -->\n",
       "<g id=\"node11\" class=\"node\">\n",
       "<title>130699458550688</title>\n",
       "<polygon fill=\"none\" stroke=\"black\" points=\"1585.69,-109.5 1585.69,-145.5 1816.69,-145.5 1816.69,-109.5 1585.69,-109.5\"/>\n",
       "<text text-anchor=\"middle\" x=\"1598.19\" y=\"-123.8\" font-family=\"Times,serif\" font-size=\"14.00\">o</text>\n",
       "<polyline fill=\"none\" stroke=\"black\" points=\"1610.69,-109.5 1610.69,-145.5 \"/>\n",
       "<text text-anchor=\"middle\" x=\"1661.69\" y=\"-123.8\" font-family=\"Times,serif\" font-size=\"14.00\">data 0.7071</text>\n",
       "<polyline fill=\"none\" stroke=\"black\" points=\"1712.69,-109.5 1712.69,-145.5 \"/>\n",
       "<text text-anchor=\"middle\" x=\"1764.69\" y=\"-123.8\" font-family=\"Times,serif\" font-size=\"14.00\">grad 1.0000</text>\n",
       "</g>\n",
       "<!-- 130699458550688tanh&#45;&gt;130699458550688 -->\n",
       "<g id=\"edge5\" class=\"edge\">\n",
       "<title>130699458550688tanh&#45;&gt;130699458550688</title>\n",
       "<path fill=\"none\" stroke=\"black\" d=\"M1550.02,-127.5C1557.61,-127.5 1566.19,-127.5 1575.31,-127.5\"/>\n",
       "<polygon fill=\"black\" stroke=\"black\" points=\"1575.4,-131 1585.4,-127.5 1575.4,-124 1575.4,-131\"/>\n",
       "</g>\n",
       "<!-- 130699458551216 -->\n",
       "<g id=\"node13\" class=\"node\">\n",
       "<title>130699458551216</title>\n",
       "<polygon fill=\"none\" stroke=\"black\" points=\"813.5,-137.5 813.5,-173.5 1045.5,-173.5 1045.5,-137.5 813.5,-137.5\"/>\n",
       "<text text-anchor=\"middle\" x=\"826.5\" y=\"-151.8\" font-family=\"Times,serif\" font-size=\"14.00\">b</text>\n",
       "<polyline fill=\"none\" stroke=\"black\" points=\"839.5,-137.5 839.5,-173.5 \"/>\n",
       "<text text-anchor=\"middle\" x=\"890.5\" y=\"-151.8\" font-family=\"Times,serif\" font-size=\"14.00\">data 6.8814</text>\n",
       "<polyline fill=\"none\" stroke=\"black\" points=\"941.5,-137.5 941.5,-173.5 \"/>\n",
       "<text text-anchor=\"middle\" x=\"993.5\" y=\"-151.8\" font-family=\"Times,serif\" font-size=\"14.00\">grad 0.5000</text>\n",
       "</g>\n",
       "<!-- 130699458551216&#45;&gt;130699458550544+ -->\n",
       "<g id=\"edge11\" class=\"edge\">\n",
       "<title>130699458551216&#45;&gt;130699458550544+</title>\n",
       "<path fill=\"none\" stroke=\"black\" d=\"M1045.52,-141.09C1072,-137.77 1098.23,-134.49 1118.26,-131.98\"/>\n",
       "<polygon fill=\"black\" stroke=\"black\" points=\"1118.94,-135.42 1128.43,-130.7 1118.07,-128.47 1118.94,-135.42\"/>\n",
       "</g>\n",
       "<!-- 130699464091600 -->\n",
       "<g id=\"node14\" class=\"node\">\n",
       "<title>130699464091600</title>\n",
       "<polygon fill=\"none\" stroke=\"black\" points=\"4.5,-165.5 4.5,-201.5 244.5,-201.5 244.5,-165.5 4.5,-165.5\"/>\n",
       "<text text-anchor=\"middle\" x=\"21.5\" y=\"-179.8\" font-family=\"Times,serif\" font-size=\"14.00\">x2</text>\n",
       "<polyline fill=\"none\" stroke=\"black\" points=\"38.5,-165.5 38.5,-201.5 \"/>\n",
       "<text text-anchor=\"middle\" x=\"89.5\" y=\"-179.8\" font-family=\"Times,serif\" font-size=\"14.00\">data 0.0000</text>\n",
       "<polyline fill=\"none\" stroke=\"black\" points=\"140.5,-165.5 140.5,-201.5 \"/>\n",
       "<text text-anchor=\"middle\" x=\"192.5\" y=\"-179.8\" font-family=\"Times,serif\" font-size=\"14.00\">grad 0.5000</text>\n",
       "</g>\n",
       "<!-- 130699464091600&#45;&gt;130699458550352* -->\n",
       "<g id=\"edge12\" class=\"edge\">\n",
       "<title>130699464091600&#45;&gt;130699458550352*</title>\n",
       "<path fill=\"none\" stroke=\"black\" d=\"M218.13,-165.46C228.63,-162.77 239.1,-159.78 249,-156.5 259.71,-152.96 271.05,-148.16 281.07,-143.54\"/>\n",
       "<polygon fill=\"black\" stroke=\"black\" points=\"282.67,-146.66 290.2,-139.21 279.67,-140.33 282.67,-146.66\"/>\n",
       "</g>\n",
       "<!-- 130699458550736 -->\n",
       "<g id=\"node15\" class=\"node\">\n",
       "<title>130699458550736</title>\n",
       "<polygon fill=\"none\" stroke=\"black\" points=\"2.5,-110.5 2.5,-146.5 246.5,-146.5 246.5,-110.5 2.5,-110.5\"/>\n",
       "<text text-anchor=\"middle\" x=\"21.5\" y=\"-124.8\" font-family=\"Times,serif\" font-size=\"14.00\">w2</text>\n",
       "<polyline fill=\"none\" stroke=\"black\" points=\"40.5,-110.5 40.5,-146.5 \"/>\n",
       "<text text-anchor=\"middle\" x=\"91.5\" y=\"-124.8\" font-family=\"Times,serif\" font-size=\"14.00\">data 1.0000</text>\n",
       "<polyline fill=\"none\" stroke=\"black\" points=\"142.5,-110.5 142.5,-146.5 \"/>\n",
       "<text text-anchor=\"middle\" x=\"194.5\" y=\"-124.8\" font-family=\"Times,serif\" font-size=\"14.00\">grad 0.0000</text>\n",
       "</g>\n",
       "<!-- 130699458550736&#45;&gt;130699458550352* -->\n",
       "<g id=\"edge6\" class=\"edge\">\n",
       "<title>130699458550736&#45;&gt;130699458550352*</title>\n",
       "<path fill=\"none\" stroke=\"black\" d=\"M246.64,-128.5C256.7,-128.5 266.26,-128.5 274.79,-128.5\"/>\n",
       "<polygon fill=\"black\" stroke=\"black\" points=\"275,-132 285,-128.5 275,-125 275,-132\"/>\n",
       "</g>\n",
       "</g>\n",
       "</svg>\n"
      ],
      "text/plain": [
       "<graphviz.graphs.Digraph at 0x76ded7196350>"
      ]
     },
     "execution_count": 59,
     "metadata": {},
     "output_type": "execute_result"
    }
   ],
   "source": [
    "draw_dot(o)"
   ]
  },
  {
   "cell_type": "code",
   "execution_count": 58,
   "id": "eb96bca1-9691-434a-bad9-6c222ffa3df9",
   "metadata": {},
   "outputs": [],
   "source": [
    "# add grad now\n",
    "o.grad = 1.0 #derivative of o w.r.t o is 1\n",
    "\n",
    "# o= tanh(n) => d (tanh(x))/ dx = 1- tanh^2(x) => d (tanh(n)) / dn => 1-tanh^2(n) => 1- o^2 (as o = tanh(n))\n",
    "n.grad =  1- (o.data)**2 #0.5\n",
    "\n",
    "b.grad = 0.5 # do/db = do/dn x dn/db = 0.5 x 1\n",
    "\n",
    "x1w1x2w2.grad = 0.5\n",
    "x1w1.grad = 0.5 * 1.0\n",
    "x2w2.grad = 0.5 * 1.0\n",
    "x1.grad = 0.5 * w1.data\n",
    "w1.grad = 0.5 * x1.data\n",
    "x2.grad = 0.5 * w2.data\n",
    "w2.grad = 0.5 * x2.data"
   ]
  },
  {
   "cell_type": "code",
   "execution_count": null,
   "id": "1537e96a-2c0d-4aee-889d-ac416393bb15",
   "metadata": {},
   "outputs": [],
   "source": []
  }
 ],
 "metadata": {
  "kernelspec": {
   "display_name": "Python 3 (ipykernel)",
   "language": "python",
   "name": "python3"
  },
  "language_info": {
   "codemirror_mode": {
    "name": "ipython",
    "version": 3
   },
   "file_extension": ".py",
   "mimetype": "text/x-python",
   "name": "python",
   "nbconvert_exporter": "python",
   "pygments_lexer": "ipython3",
   "version": "3.10.12"
  }
 },
 "nbformat": 4,
 "nbformat_minor": 5
}
